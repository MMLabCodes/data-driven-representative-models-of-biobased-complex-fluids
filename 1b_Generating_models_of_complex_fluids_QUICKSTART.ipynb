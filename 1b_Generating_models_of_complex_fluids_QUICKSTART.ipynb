{
 "cells": [
  {
   "cell_type": "markdown",
   "id": "3bf4d182-104c-415b-83a4-10125c9cce66",
   "metadata": {},
   "source": [
    "# This is a quickstart guide for generating models of complex fluids\n",
    "\n",
    "This is a parallel notebook for **1_Generating_models_of_complex_fluids**. However, this will contain no explanation and the afforementioned notebook should be referred to for clarification."
   ]
  },
  {
   "cell_type": "code",
   "execution_count": 1,
   "id": "244a056f-6321-476b-bd9f-549ea59a8086",
   "metadata": {},
   "outputs": [],
   "source": [
    "# Import filepath manager\n",
    "from modules.sw_directories import *\n",
    "\n",
    "# Import sw_orca to read raw data\n",
    "from modules.sw_orca import *\n",
    "\n",
    "# Import complex fluid model functions\n",
    "from modules.sw_complex_fluid_models import *\n",
    "\n",
    "# Import os\n",
    "import os as os\n",
    "\n",
    "# call 'BioOilDirs'\n",
    "manager = BioOilDirs(os.getcwd())"
   ]
  },
  {
   "cell_type": "code",
   "execution_count": 2,
   "id": "580307fb-0da0-461a-b06f-522513e13cb2",
   "metadata": {},
   "outputs": [
    {
     "name": "stdout",
     "output_type": "stream",
     "text": [
      "/home/dan/polymersimulator/bio_oil_package/bio_oil/GC_data/pb_cp.csv\n"
     ]
    }
   ],
   "source": [
    "# data file name\n",
    "data_filename = \"pb_cp.csv\"\n",
    "\n",
    "# data folder path\n",
    "data_folder = manager.bio_oil_GC_data\n",
    "\n",
    "# create filepath to data file\n",
    "data_filepath = os.path.join(data_folder, data_filename) \n",
    "\n",
    "# show data filepath\n",
    "print(data_filepath)"
   ]
  },
  {
   "cell_type": "code",
   "execution_count": 3,
   "id": "65895128-c84e-43a1-a810-12d42b33173d",
   "metadata": {},
   "outputs": [],
   "source": [
    "# Extract the csv data into list\n",
    "molecules = csv_to_orca_class(data_filepath)"
   ]
  },
  {
   "cell_type": "code",
   "execution_count": 4,
   "id": "b3e06a23-41e6-493f-b9f8-8aca3a17c304",
   "metadata": {},
   "outputs": [
    {
     "name": "stdout",
     "output_type": "stream",
     "text": [
      "<modules.sw_complex_fluid_models.complex_fluid_model object at 0x7f6385fa3140>\n",
      "<modules.sw_complex_fluid_models.complex_fluid_model object at 0x7f6385fa3140>\n",
      "<modules.sw_complex_fluid_models.complex_fluid_model object at 0x7f6385fa3020>\n",
      "<modules.sw_complex_fluid_models.complex_fluid_model object at 0x7f6385fa3020>\n",
      "<modules.sw_complex_fluid_models.complex_fluid_model object at 0x7f63880f2060>\n",
      "<modules.sw_complex_fluid_models.complex_fluid_model object at 0x7f63880f2060>\n",
      "<modules.sw_complex_fluid_models.complex_fluid_model object at 0x7f638812bc20>\n",
      "<modules.sw_complex_fluid_models.complex_fluid_model object at 0x7f638812bc20>\n",
      "<modules.sw_complex_fluid_models.complex_fluid_model object at 0x7f63880e79b0>\n",
      "<modules.sw_complex_fluid_models.complex_fluid_model object at 0x7f63880e79b0>\n"
     ]
    }
   ],
   "source": [
    "# Generate FT model - with a useful name\n",
    "pb_cp_FT_model = complex_fluid_models.fixed_threshold_model(model_name=\"pb_cp\", orca_molecules=molecules, selection_threshold=5)\n",
    "\n",
    "# Generate PT model - with a useful name\n",
    "pb_cp_PT_model = complex_fluid_models.proportional_threshold_model(model_name=\"pb_cp\", orca_molecules=molecules)\n",
    "\n",
    "# Generate AG model - with a useful name\n",
    "pb_cp_AG_model = complex_fluid_models.abundancy_grouped_model(model_name=\"pb_cp\", orca_molecules=molecules)\n",
    "\n",
    "# Generate SG model - with a useful name\n",
    "pb_cp_SG_model = complex_fluid_models.scored_grouped_model(model_name=\"pb_cp\", orca_molecules=molecules)\n",
    "\n",
    "# Generate SG model - with a useful name\n",
    "pb_cp_ALL_model = complex_fluid_models.all_model(model_name=\"pb_cp\", orca_molecules=molecules)\n",
    "\n",
    "pb_cp_models = [pb_cp_ALL_model, pb_cp_FT_model, pb_cp_PT_model, pb_cp_AG_model, pb_cp_SG_model]"
   ]
  },
  {
   "cell_type": "code",
   "execution_count": 5,
   "id": "016b1490-9a25-4aab-ba25-3626369fac77",
   "metadata": {},
   "outputs": [
    {
     "data": {
      "text/html": [
       "<div>\n",
       "<style scoped>\n",
       "    .dataframe tbody tr th:only-of-type {\n",
       "        vertical-align: middle;\n",
       "    }\n",
       "\n",
       "    .dataframe tbody tr th {\n",
       "        vertical-align: top;\n",
       "    }\n",
       "\n",
       "    .dataframe thead th {\n",
       "        text-align: right;\n",
       "    }\n",
       "</style>\n",
       "<table border=\"1\" class=\"dataframe\">\n",
       "  <thead>\n",
       "    <tr style=\"text-align: right;\">\n",
       "      <th></th>\n",
       "      <th>Model Type</th>\n",
       "      <th>Mw</th>\n",
       "      <th>Chem_hard</th>\n",
       "      <th>polarizability</th>\n",
       "      <th>Dipole</th>\n",
       "      <th>total_energy</th>\n",
       "      <th>oxygen_content</th>\n",
       "    </tr>\n",
       "  </thead>\n",
       "  <tbody>\n",
       "    <tr>\n",
       "      <th>0</th>\n",
       "      <td>ALL_model</td>\n",
       "      <td>184.733809</td>\n",
       "      <td>3.860766</td>\n",
       "      <td>142.895886</td>\n",
       "      <td>1.340486</td>\n",
       "      <td>-15361.255222</td>\n",
       "      <td>11.300713</td>\n",
       "    </tr>\n",
       "    <tr>\n",
       "      <th>1</th>\n",
       "      <td>FT_model</td>\n",
       "      <td>195.219017</td>\n",
       "      <td>4.163840</td>\n",
       "      <td>147.521327</td>\n",
       "      <td>1.819483</td>\n",
       "      <td>-16472.147348</td>\n",
       "      <td>13.523203</td>\n",
       "    </tr>\n",
       "    <tr>\n",
       "      <th>2</th>\n",
       "      <td>PT_model</td>\n",
       "      <td>188.977865</td>\n",
       "      <td>4.066923</td>\n",
       "      <td>144.075940</td>\n",
       "      <td>1.537000</td>\n",
       "      <td>-15936.628782</td>\n",
       "      <td>13.280425</td>\n",
       "    </tr>\n",
       "    <tr>\n",
       "      <th>3</th>\n",
       "      <td>AG_model</td>\n",
       "      <td>210.429599</td>\n",
       "      <td>4.232923</td>\n",
       "      <td>165.153029</td>\n",
       "      <td>1.509170</td>\n",
       "      <td>-17157.376270</td>\n",
       "      <td>8.369501</td>\n",
       "    </tr>\n",
       "    <tr>\n",
       "      <th>4</th>\n",
       "      <td>SG_model</td>\n",
       "      <td>161.673524</td>\n",
       "      <td>3.457835</td>\n",
       "      <td>122.454248</td>\n",
       "      <td>0.927677</td>\n",
       "      <td>-13969.090423</td>\n",
       "      <td>14.863847</td>\n",
       "    </tr>\n",
       "  </tbody>\n",
       "</table>\n",
       "</div>"
      ],
      "text/plain": [
       "  Model Type          Mw  Chem_hard  polarizability    Dipole  total_energy  \\\n",
       "0  ALL_model  184.733809   3.860766      142.895886  1.340486 -15361.255222   \n",
       "1   FT_model  195.219017   4.163840      147.521327  1.819483 -16472.147348   \n",
       "2   PT_model  188.977865   4.066923      144.075940  1.537000 -15936.628782   \n",
       "3   AG_model  210.429599   4.232923      165.153029  1.509170 -17157.376270   \n",
       "4   SG_model  161.673524   3.457835      122.454248  0.927677 -13969.090423   \n",
       "\n",
       "   oxygen_content  \n",
       "0       11.300713  \n",
       "1       13.523203  \n",
       "2       13.280425  \n",
       "3        8.369501  \n",
       "4       14.863847  "
      ]
     },
     "execution_count": 5,
     "metadata": {},
     "output_type": "execute_result"
    }
   ],
   "source": [
    "# Generate a dataframe of all of the models\n",
    "df = complex_fluid_models.generate_model_df(pb_cp_models)\n",
    "df"
   ]
  },
  {
   "cell_type": "code",
   "execution_count": 9,
   "id": "89c6b232-9466-4714-840e-535c533c77df",
   "metadata": {},
   "outputs": [
    {
     "data": {
      "text/html": [
       "<div>\n",
       "<style scoped>\n",
       "    .dataframe tbody tr th:only-of-type {\n",
       "        vertical-align: middle;\n",
       "    }\n",
       "\n",
       "    .dataframe tbody tr th {\n",
       "        vertical-align: top;\n",
       "    }\n",
       "\n",
       "    .dataframe thead th {\n",
       "        text-align: right;\n",
       "    }\n",
       "</style>\n",
       "<table border=\"1\" class=\"dataframe\">\n",
       "  <thead>\n",
       "    <tr style=\"text-align: right;\">\n",
       "      <th></th>\n",
       "      <th>Model Type</th>\n",
       "      <th>Mw</th>\n",
       "      <th>Chem_hard</th>\n",
       "      <th>polarizability</th>\n",
       "      <th>Dipole</th>\n",
       "      <th>total_energy</th>\n",
       "      <th>oxygen_content</th>\n",
       "      <th>Distance_to_Benchmark</th>\n",
       "      <th>Rank</th>\n",
       "    </tr>\n",
       "  </thead>\n",
       "  <tbody>\n",
       "    <tr>\n",
       "      <th>0</th>\n",
       "      <td>ALL_model</td>\n",
       "      <td>184.733809</td>\n",
       "      <td>3.860766</td>\n",
       "      <td>142.895886</td>\n",
       "      <td>1.340486</td>\n",
       "      <td>-15361.255222</td>\n",
       "      <td>11.300713</td>\n",
       "      <td>0.000000</td>\n",
       "      <td>1.0</td>\n",
       "    </tr>\n",
       "    <tr>\n",
       "      <th>2</th>\n",
       "      <td>PT_model</td>\n",
       "      <td>188.977865</td>\n",
       "      <td>4.066923</td>\n",
       "      <td>144.075940</td>\n",
       "      <td>1.537000</td>\n",
       "      <td>-15936.628782</td>\n",
       "      <td>13.280425</td>\n",
       "      <td>575.393899</td>\n",
       "      <td>2.0</td>\n",
       "    </tr>\n",
       "    <tr>\n",
       "      <th>1</th>\n",
       "      <td>FT_model</td>\n",
       "      <td>195.219017</td>\n",
       "      <td>4.163840</td>\n",
       "      <td>147.521327</td>\n",
       "      <td>1.819483</td>\n",
       "      <td>-16472.147348</td>\n",
       "      <td>13.523203</td>\n",
       "      <td>1110.953604</td>\n",
       "      <td>3.0</td>\n",
       "    </tr>\n",
       "    <tr>\n",
       "      <th>4</th>\n",
       "      <td>SG_model</td>\n",
       "      <td>161.673524</td>\n",
       "      <td>3.457835</td>\n",
       "      <td>122.454248</td>\n",
       "      <td>0.927677</td>\n",
       "      <td>-13969.090423</td>\n",
       "      <td>14.863847</td>\n",
       "      <td>1392.510500</td>\n",
       "      <td>4.0</td>\n",
       "    </tr>\n",
       "    <tr>\n",
       "      <th>3</th>\n",
       "      <td>AG_model</td>\n",
       "      <td>210.429599</td>\n",
       "      <td>4.232923</td>\n",
       "      <td>165.153029</td>\n",
       "      <td>1.509170</td>\n",
       "      <td>-17157.376270</td>\n",
       "      <td>8.369501</td>\n",
       "      <td>1796.445165</td>\n",
       "      <td>5.0</td>\n",
       "    </tr>\n",
       "  </tbody>\n",
       "</table>\n",
       "</div>"
      ],
      "text/plain": [
       "  Model Type          Mw  Chem_hard  polarizability    Dipole  total_energy  \\\n",
       "0  ALL_model  184.733809   3.860766      142.895886  1.340486 -15361.255222   \n",
       "2   PT_model  188.977865   4.066923      144.075940  1.537000 -15936.628782   \n",
       "1   FT_model  195.219017   4.163840      147.521327  1.819483 -16472.147348   \n",
       "4   SG_model  161.673524   3.457835      122.454248  0.927677 -13969.090423   \n",
       "3   AG_model  210.429599   4.232923      165.153029  1.509170 -17157.376270   \n",
       "\n",
       "   oxygen_content  Distance_to_Benchmark  Rank  \n",
       "0       11.300713               0.000000   1.0  \n",
       "2       13.280425             575.393899   2.0  \n",
       "1       13.523203            1110.953604   3.0  \n",
       "4       14.863847            1392.510500   4.0  \n",
       "3        8.369501            1796.445165   5.0  "
      ]
     },
     "execution_count": 9,
     "metadata": {},
     "output_type": "execute_result"
    }
   ],
   "source": [
    "# Create ranked dataframe\n",
    "ranked_df = complex_fluid_models.rank_models_new(df)\n",
    "ranked_df"
   ]
  },
  {
   "cell_type": "code",
   "execution_count": 8,
   "id": "db023f93-28b5-48c3-a313-1a58dd18584b",
   "metadata": {},
   "outputs": [
    {
     "data": {
      "text/plain": [
       "'/home/dan/polymersimulator/bio_oil_package/bio_oil/models/pb_cp_models.out'"
      ]
     },
     "execution_count": 8,
     "metadata": {},
     "output_type": "execute_result"
    }
   ],
   "source": [
    "# generate output file\n",
    "output_filename = write_output_file(manager, pb_cp_models, \"pb_cp_models.out\")\n",
    "\n",
    "# print output filepath\n",
    "output_filename"
   ]
  }
 ],
 "metadata": {
  "kernelspec": {
   "display_name": "Python 3 (ipykernel)",
   "language": "python",
   "name": "python3"
  },
  "language_info": {
   "codemirror_mode": {
    "name": "ipython",
    "version": 3
   },
   "file_extension": ".py",
   "mimetype": "text/x-python",
   "name": "python",
   "nbconvert_exporter": "python",
   "pygments_lexer": "ipython3",
   "version": "3.12.0"
  }
 },
 "nbformat": 4,
 "nbformat_minor": 5
}
